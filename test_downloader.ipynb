{
 "cells": [
  {
   "cell_type": "code",
   "execution_count": 1,
   "metadata": {},
   "outputs": [],
   "source": [
    "import webbrowser"
   ]
  },
  {
   "cell_type": "code",
   "execution_count": 2,
   "metadata": {},
   "outputs": [
    {
     "name": "stdout",
     "output_type": "stream",
     "text": [
      "Opened 4 links in the browser.\n"
     ]
    }
   ],
   "source": [
    "def open_youtube_links(file_path, num_links):\n",
    "    \"\"\"\n",
    "    Opens a specified number of YouTube links from a text file in the default web browser.\n",
    "\n",
    "    Parameters:\n",
    "    file_path (str): The path to the text file containing YouTube links.\n",
    "    num_links (int): The number of links to open.\n",
    "    \"\"\"\n",
    "    try:\n",
    "        with open(file_path, 'r') as file:\n",
    "            links = [line.strip() for line in file.readlines()]\n",
    "        links_to_open = links[:num_links]\n",
    "        for link in links_to_open:\n",
    "            webbrowser.open(link)\n",
    "        print(f\"Opened {len(links_to_open)} links in the browser.\")\n",
    "    except Exception as e:\n",
    "        print(f\"Error: {e}\")\n",
    "\n",
    "if __name__ == \"__main__\":\n",
    "    links_file_path = input(\"Enter the path to the text file with YouTube links: \")\n",
    "    number_of_links = int(input(\"Enter the number of links to open: \"))\n",
    "    open_youtube_links(links_file_path, number_of_links)\n"
   ]
  },
  {
   "cell_type": "code",
   "execution_count": null,
   "metadata": {},
   "outputs": [],
   "source": []
  }
 ],
 "metadata": {
  "kernelspec": {
   "display_name": ".venv",
   "language": "python",
   "name": "python3"
  },
  "language_info": {
   "codemirror_mode": {
    "name": "ipython",
    "version": 3
   },
   "file_extension": ".py",
   "mimetype": "text/x-python",
   "name": "python",
   "nbconvert_exporter": "python",
   "pygments_lexer": "ipython3",
   "version": "3.10.12"
  }
 },
 "nbformat": 4,
 "nbformat_minor": 2
}
